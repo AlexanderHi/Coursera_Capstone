{
  "nbformat": 4,
  "nbformat_minor": 0,
  "metadata": {
    "colab": {
      "name": "Clustering_neighboorhoods.ipynb",
      "provenance": [],
      "collapsed_sections": [],
      "authorship_tag": "ABX9TyMi62KUImi5hd9P/CbmN2pT",
      "include_colab_link": true
    },
    "kernelspec": {
      "name": "python3",
      "display_name": "Python 3"
    }
  },
  "cells": [
    {
      "cell_type": "markdown",
      "metadata": {
        "id": "view-in-github",
        "colab_type": "text"
      },
      "source": [
        "<a href=\"https://colab.research.google.com/github/AlexanderHi/Coursera_Capstone/blob/master/Clustering_neighborhoods.ipynb\" target=\"_parent\"><img src=\"https://colab.research.google.com/assets/colab-badge.svg\" alt=\"Open In Colab\"/></a>"
      ]
    },
    {
      "cell_type": "code",
      "metadata": {
        "id": "Xhc-iR_bt-JE",
        "colab_type": "code",
        "colab": {}
      },
      "source": [
        "# Enable multiple outputs per cell\n",
        "from IPython.core.interactiveshell import InteractiveShell\n",
        "InteractiveShell.ast_node_interactivity = \"all\""
      ],
      "execution_count": 0,
      "outputs": []
    },
    {
      "cell_type": "markdown",
      "metadata": {
        "id": "WMk-CZ-lk_FG",
        "colab_type": "text"
      },
      "source": [
        "# Task 1"
      ]
    },
    {
      "cell_type": "code",
      "metadata": {
        "id": "TpuWHGjIZSYf",
        "colab_type": "code",
        "outputId": "12672325-f5df-4c11-9a87-f512420fa3db",
        "colab": {
          "base_uri": "https://localhost:8080/",
          "height": 424
        }
      },
      "source": [
        "# Scrape table from url\n",
        "import pandas as pd\n",
        "import numpy as np\n",
        "\n",
        "df = pd.read_html('https://en.wikipedia.org/wiki/List_of_postal_codes_of_Canada:_M')[0]\n",
        "df"
      ],
      "execution_count": 1,
      "outputs": [
        {
          "output_type": "execute_result",
          "data": {
            "text/html": [
              "<div>\n",
              "<style scoped>\n",
              "    .dataframe tbody tr th:only-of-type {\n",
              "        vertical-align: middle;\n",
              "    }\n",
              "\n",
              "    .dataframe tbody tr th {\n",
              "        vertical-align: top;\n",
              "    }\n",
              "\n",
              "    .dataframe thead th {\n",
              "        text-align: right;\n",
              "    }\n",
              "</style>\n",
              "<table border=\"1\" class=\"dataframe\">\n",
              "  <thead>\n",
              "    <tr style=\"text-align: right;\">\n",
              "      <th></th>\n",
              "      <th>Postal code</th>\n",
              "      <th>Borough</th>\n",
              "      <th>Neighborhood</th>\n",
              "    </tr>\n",
              "  </thead>\n",
              "  <tbody>\n",
              "    <tr>\n",
              "      <th>0</th>\n",
              "      <td>M1A</td>\n",
              "      <td>Not assigned</td>\n",
              "      <td>NaN</td>\n",
              "    </tr>\n",
              "    <tr>\n",
              "      <th>1</th>\n",
              "      <td>M2A</td>\n",
              "      <td>Not assigned</td>\n",
              "      <td>NaN</td>\n",
              "    </tr>\n",
              "    <tr>\n",
              "      <th>2</th>\n",
              "      <td>M3A</td>\n",
              "      <td>North York</td>\n",
              "      <td>Parkwoods</td>\n",
              "    </tr>\n",
              "    <tr>\n",
              "      <th>3</th>\n",
              "      <td>M4A</td>\n",
              "      <td>North York</td>\n",
              "      <td>Victoria Village</td>\n",
              "    </tr>\n",
              "    <tr>\n",
              "      <th>4</th>\n",
              "      <td>M5A</td>\n",
              "      <td>Downtown Toronto</td>\n",
              "      <td>Regent Park / Harbourfront</td>\n",
              "    </tr>\n",
              "    <tr>\n",
              "      <th>...</th>\n",
              "      <td>...</td>\n",
              "      <td>...</td>\n",
              "      <td>...</td>\n",
              "    </tr>\n",
              "    <tr>\n",
              "      <th>175</th>\n",
              "      <td>M5Z</td>\n",
              "      <td>Not assigned</td>\n",
              "      <td>NaN</td>\n",
              "    </tr>\n",
              "    <tr>\n",
              "      <th>176</th>\n",
              "      <td>M6Z</td>\n",
              "      <td>Not assigned</td>\n",
              "      <td>NaN</td>\n",
              "    </tr>\n",
              "    <tr>\n",
              "      <th>177</th>\n",
              "      <td>M7Z</td>\n",
              "      <td>Not assigned</td>\n",
              "      <td>NaN</td>\n",
              "    </tr>\n",
              "    <tr>\n",
              "      <th>178</th>\n",
              "      <td>M8Z</td>\n",
              "      <td>Etobicoke</td>\n",
              "      <td>Mimico NW / The Queensway West / South of Bloo...</td>\n",
              "    </tr>\n",
              "    <tr>\n",
              "      <th>179</th>\n",
              "      <td>M9Z</td>\n",
              "      <td>Not assigned</td>\n",
              "      <td>NaN</td>\n",
              "    </tr>\n",
              "  </tbody>\n",
              "</table>\n",
              "<p>180 rows × 3 columns</p>\n",
              "</div>"
            ],
            "text/plain": [
              "    Postal code  ...                                       Neighborhood\n",
              "0           M1A  ...                                                NaN\n",
              "1           M2A  ...                                                NaN\n",
              "2           M3A  ...                                          Parkwoods\n",
              "3           M4A  ...                                   Victoria Village\n",
              "4           M5A  ...                         Regent Park / Harbourfront\n",
              "..          ...  ...                                                ...\n",
              "175         M5Z  ...                                                NaN\n",
              "176         M6Z  ...                                                NaN\n",
              "177         M7Z  ...                                                NaN\n",
              "178         M8Z  ...  Mimico NW / The Queensway West / South of Bloo...\n",
              "179         M9Z  ...                                                NaN\n",
              "\n",
              "[180 rows x 3 columns]"
            ]
          },
          "metadata": {
            "tags": []
          },
          "execution_count": 1
        }
      ]
    },
    {
      "cell_type": "code",
      "metadata": {
        "id": "SL3IDN9Yilyg",
        "colab_type": "code",
        "colab": {
          "base_uri": "https://localhost:8080/",
          "height": 424
        },
        "outputId": "784f5cf2-4248-4071-c89c-ba057243dbba"
      },
      "source": [
        "# Remove rows with boroughs that are not assigned\n",
        "df.drop(df.index[df['Borough'] == 'Not assigned'], inplace=True)\n",
        "df"
      ],
      "execution_count": 2,
      "outputs": [
        {
          "output_type": "execute_result",
          "data": {
            "text/html": [
              "<div>\n",
              "<style scoped>\n",
              "    .dataframe tbody tr th:only-of-type {\n",
              "        vertical-align: middle;\n",
              "    }\n",
              "\n",
              "    .dataframe tbody tr th {\n",
              "        vertical-align: top;\n",
              "    }\n",
              "\n",
              "    .dataframe thead th {\n",
              "        text-align: right;\n",
              "    }\n",
              "</style>\n",
              "<table border=\"1\" class=\"dataframe\">\n",
              "  <thead>\n",
              "    <tr style=\"text-align: right;\">\n",
              "      <th></th>\n",
              "      <th>Postal code</th>\n",
              "      <th>Borough</th>\n",
              "      <th>Neighborhood</th>\n",
              "    </tr>\n",
              "  </thead>\n",
              "  <tbody>\n",
              "    <tr>\n",
              "      <th>2</th>\n",
              "      <td>M3A</td>\n",
              "      <td>North York</td>\n",
              "      <td>Parkwoods</td>\n",
              "    </tr>\n",
              "    <tr>\n",
              "      <th>3</th>\n",
              "      <td>M4A</td>\n",
              "      <td>North York</td>\n",
              "      <td>Victoria Village</td>\n",
              "    </tr>\n",
              "    <tr>\n",
              "      <th>4</th>\n",
              "      <td>M5A</td>\n",
              "      <td>Downtown Toronto</td>\n",
              "      <td>Regent Park / Harbourfront</td>\n",
              "    </tr>\n",
              "    <tr>\n",
              "      <th>5</th>\n",
              "      <td>M6A</td>\n",
              "      <td>North York</td>\n",
              "      <td>Lawrence Manor / Lawrence Heights</td>\n",
              "    </tr>\n",
              "    <tr>\n",
              "      <th>6</th>\n",
              "      <td>M7A</td>\n",
              "      <td>Downtown Toronto</td>\n",
              "      <td>Queen's Park / Ontario Provincial Government</td>\n",
              "    </tr>\n",
              "    <tr>\n",
              "      <th>...</th>\n",
              "      <td>...</td>\n",
              "      <td>...</td>\n",
              "      <td>...</td>\n",
              "    </tr>\n",
              "    <tr>\n",
              "      <th>160</th>\n",
              "      <td>M8X</td>\n",
              "      <td>Etobicoke</td>\n",
              "      <td>The Kingsway / Montgomery Road / Old Mill North</td>\n",
              "    </tr>\n",
              "    <tr>\n",
              "      <th>165</th>\n",
              "      <td>M4Y</td>\n",
              "      <td>Downtown Toronto</td>\n",
              "      <td>Church and Wellesley</td>\n",
              "    </tr>\n",
              "    <tr>\n",
              "      <th>168</th>\n",
              "      <td>M7Y</td>\n",
              "      <td>East Toronto</td>\n",
              "      <td>Business reply mail Processing CentrE</td>\n",
              "    </tr>\n",
              "    <tr>\n",
              "      <th>169</th>\n",
              "      <td>M8Y</td>\n",
              "      <td>Etobicoke</td>\n",
              "      <td>Old Mill South / King's Mill Park / Sunnylea /...</td>\n",
              "    </tr>\n",
              "    <tr>\n",
              "      <th>178</th>\n",
              "      <td>M8Z</td>\n",
              "      <td>Etobicoke</td>\n",
              "      <td>Mimico NW / The Queensway West / South of Bloo...</td>\n",
              "    </tr>\n",
              "  </tbody>\n",
              "</table>\n",
              "<p>103 rows × 3 columns</p>\n",
              "</div>"
            ],
            "text/plain": [
              "    Postal code  ...                                       Neighborhood\n",
              "2           M3A  ...                                          Parkwoods\n",
              "3           M4A  ...                                   Victoria Village\n",
              "4           M5A  ...                         Regent Park / Harbourfront\n",
              "5           M6A  ...                  Lawrence Manor / Lawrence Heights\n",
              "6           M7A  ...       Queen's Park / Ontario Provincial Government\n",
              "..          ...  ...                                                ...\n",
              "160         M8X  ...    The Kingsway / Montgomery Road / Old Mill North\n",
              "165         M4Y  ...                               Church and Wellesley\n",
              "168         M7Y  ...              Business reply mail Processing CentrE\n",
              "169         M8Y  ...  Old Mill South / King's Mill Park / Sunnylea /...\n",
              "178         M8Z  ...  Mimico NW / The Queensway West / South of Bloo...\n",
              "\n",
              "[103 rows x 3 columns]"
            ]
          },
          "metadata": {
            "tags": []
          },
          "execution_count": 2
        }
      ]
    },
    {
      "cell_type": "code",
      "metadata": {
        "id": "8aaw56isqcm5",
        "colab_type": "code",
        "colab": {
          "base_uri": "https://localhost:8080/",
          "height": 424
        },
        "outputId": "234f0eb4-e83c-4a87-d0c8-857b8cc6c8d5"
      },
      "source": [
        "# Check for and deal with NaNs in the Neighboorhood column\n",
        "for _, row in df.iterrows():\n",
        "  if row[\"Neighborhood\"] == \"NaN\":\n",
        "    row[\"Neighborhood\"] = row[\"Borough\"]\n",
        "df"
      ],
      "execution_count": 3,
      "outputs": [
        {
          "output_type": "execute_result",
          "data": {
            "text/html": [
              "<div>\n",
              "<style scoped>\n",
              "    .dataframe tbody tr th:only-of-type {\n",
              "        vertical-align: middle;\n",
              "    }\n",
              "\n",
              "    .dataframe tbody tr th {\n",
              "        vertical-align: top;\n",
              "    }\n",
              "\n",
              "    .dataframe thead th {\n",
              "        text-align: right;\n",
              "    }\n",
              "</style>\n",
              "<table border=\"1\" class=\"dataframe\">\n",
              "  <thead>\n",
              "    <tr style=\"text-align: right;\">\n",
              "      <th></th>\n",
              "      <th>Postal code</th>\n",
              "      <th>Borough</th>\n",
              "      <th>Neighborhood</th>\n",
              "    </tr>\n",
              "  </thead>\n",
              "  <tbody>\n",
              "    <tr>\n",
              "      <th>2</th>\n",
              "      <td>M3A</td>\n",
              "      <td>North York</td>\n",
              "      <td>Parkwoods</td>\n",
              "    </tr>\n",
              "    <tr>\n",
              "      <th>3</th>\n",
              "      <td>M4A</td>\n",
              "      <td>North York</td>\n",
              "      <td>Victoria Village</td>\n",
              "    </tr>\n",
              "    <tr>\n",
              "      <th>4</th>\n",
              "      <td>M5A</td>\n",
              "      <td>Downtown Toronto</td>\n",
              "      <td>Regent Park / Harbourfront</td>\n",
              "    </tr>\n",
              "    <tr>\n",
              "      <th>5</th>\n",
              "      <td>M6A</td>\n",
              "      <td>North York</td>\n",
              "      <td>Lawrence Manor / Lawrence Heights</td>\n",
              "    </tr>\n",
              "    <tr>\n",
              "      <th>6</th>\n",
              "      <td>M7A</td>\n",
              "      <td>Downtown Toronto</td>\n",
              "      <td>Queen's Park / Ontario Provincial Government</td>\n",
              "    </tr>\n",
              "    <tr>\n",
              "      <th>...</th>\n",
              "      <td>...</td>\n",
              "      <td>...</td>\n",
              "      <td>...</td>\n",
              "    </tr>\n",
              "    <tr>\n",
              "      <th>160</th>\n",
              "      <td>M8X</td>\n",
              "      <td>Etobicoke</td>\n",
              "      <td>The Kingsway / Montgomery Road / Old Mill North</td>\n",
              "    </tr>\n",
              "    <tr>\n",
              "      <th>165</th>\n",
              "      <td>M4Y</td>\n",
              "      <td>Downtown Toronto</td>\n",
              "      <td>Church and Wellesley</td>\n",
              "    </tr>\n",
              "    <tr>\n",
              "      <th>168</th>\n",
              "      <td>M7Y</td>\n",
              "      <td>East Toronto</td>\n",
              "      <td>Business reply mail Processing CentrE</td>\n",
              "    </tr>\n",
              "    <tr>\n",
              "      <th>169</th>\n",
              "      <td>M8Y</td>\n",
              "      <td>Etobicoke</td>\n",
              "      <td>Old Mill South / King's Mill Park / Sunnylea /...</td>\n",
              "    </tr>\n",
              "    <tr>\n",
              "      <th>178</th>\n",
              "      <td>M8Z</td>\n",
              "      <td>Etobicoke</td>\n",
              "      <td>Mimico NW / The Queensway West / South of Bloo...</td>\n",
              "    </tr>\n",
              "  </tbody>\n",
              "</table>\n",
              "<p>103 rows × 3 columns</p>\n",
              "</div>"
            ],
            "text/plain": [
              "    Postal code  ...                                       Neighborhood\n",
              "2           M3A  ...                                          Parkwoods\n",
              "3           M4A  ...                                   Victoria Village\n",
              "4           M5A  ...                         Regent Park / Harbourfront\n",
              "5           M6A  ...                  Lawrence Manor / Lawrence Heights\n",
              "6           M7A  ...       Queen's Park / Ontario Provincial Government\n",
              "..          ...  ...                                                ...\n",
              "160         M8X  ...    The Kingsway / Montgomery Road / Old Mill North\n",
              "165         M4Y  ...                               Church and Wellesley\n",
              "168         M7Y  ...              Business reply mail Processing CentrE\n",
              "169         M8Y  ...  Old Mill South / King's Mill Park / Sunnylea /...\n",
              "178         M8Z  ...  Mimico NW / The Queensway West / South of Bloo...\n",
              "\n",
              "[103 rows x 3 columns]"
            ]
          },
          "metadata": {
            "tags": []
          },
          "execution_count": 3
        }
      ]
    },
    {
      "cell_type": "code",
      "metadata": {
        "id": "ipYvOWPQoDm_",
        "colab_type": "code",
        "outputId": "605a27b2-c651-45a1-d5d7-6948e5263fb0",
        "colab": {
          "base_uri": "https://localhost:8080/",
          "height": 35
        }
      },
      "source": [
        "df.shape"
      ],
      "execution_count": 4,
      "outputs": [
        {
          "output_type": "execute_result",
          "data": {
            "text/plain": [
              "(103, 3)"
            ]
          },
          "metadata": {
            "tags": []
          },
          "execution_count": 4
        }
      ]
    },
    {
      "cell_type": "markdown",
      "metadata": {
        "id": "vukax6EFlG9y",
        "colab_type": "text"
      },
      "source": [
        "# Task 2\n"
      ]
    },
    {
      "cell_type": "code",
      "metadata": {
        "id": "xjytPGZFk3Tz",
        "colab_type": "code",
        "colab": {}
      },
      "source": [
        "# Read geo coords\n",
        "geo_data = pd.read_csv(\"Geospatial_Coordinates.csv\")\n",
        "geo_data.rename(columns={\"Postal Code\": \"Postal code\"}, inplace=True)"
      ],
      "execution_count": 0,
      "outputs": []
    },
    {
      "cell_type": "code",
      "metadata": {
        "id": "we7delTMln6u",
        "colab_type": "code",
        "colab": {
          "base_uri": "https://localhost:8080/",
          "height": 424
        },
        "outputId": "10cf65cb-73da-46ab-8f47-9a59f0251461"
      },
      "source": [
        "# Merge dfs\n",
        "df = pd.merge(df, geo_data, on=\"Postal code\")\n",
        "df.drop(columns=[\"Latitude_x\", \"Latitude_y\", \"Longitude_x\", \"Longitude_y\"], inplace=True)\n",
        "df"
      ],
      "execution_count": 27,
      "outputs": [
        {
          "output_type": "execute_result",
          "data": {
            "text/html": [
              "<div>\n",
              "<style scoped>\n",
              "    .dataframe tbody tr th:only-of-type {\n",
              "        vertical-align: middle;\n",
              "    }\n",
              "\n",
              "    .dataframe tbody tr th {\n",
              "        vertical-align: top;\n",
              "    }\n",
              "\n",
              "    .dataframe thead th {\n",
              "        text-align: right;\n",
              "    }\n",
              "</style>\n",
              "<table border=\"1\" class=\"dataframe\">\n",
              "  <thead>\n",
              "    <tr style=\"text-align: right;\">\n",
              "      <th></th>\n",
              "      <th>Postal code</th>\n",
              "      <th>Borough</th>\n",
              "      <th>Neighborhood</th>\n",
              "      <th>Latitude</th>\n",
              "      <th>Longitude</th>\n",
              "    </tr>\n",
              "  </thead>\n",
              "  <tbody>\n",
              "    <tr>\n",
              "      <th>0</th>\n",
              "      <td>M3A</td>\n",
              "      <td>North York</td>\n",
              "      <td>Parkwoods</td>\n",
              "      <td>43.753259</td>\n",
              "      <td>-79.329656</td>\n",
              "    </tr>\n",
              "    <tr>\n",
              "      <th>1</th>\n",
              "      <td>M4A</td>\n",
              "      <td>North York</td>\n",
              "      <td>Victoria Village</td>\n",
              "      <td>43.725882</td>\n",
              "      <td>-79.315572</td>\n",
              "    </tr>\n",
              "    <tr>\n",
              "      <th>2</th>\n",
              "      <td>M5A</td>\n",
              "      <td>Downtown Toronto</td>\n",
              "      <td>Regent Park / Harbourfront</td>\n",
              "      <td>43.654260</td>\n",
              "      <td>-79.360636</td>\n",
              "    </tr>\n",
              "    <tr>\n",
              "      <th>3</th>\n",
              "      <td>M6A</td>\n",
              "      <td>North York</td>\n",
              "      <td>Lawrence Manor / Lawrence Heights</td>\n",
              "      <td>43.718518</td>\n",
              "      <td>-79.464763</td>\n",
              "    </tr>\n",
              "    <tr>\n",
              "      <th>4</th>\n",
              "      <td>M7A</td>\n",
              "      <td>Downtown Toronto</td>\n",
              "      <td>Queen's Park / Ontario Provincial Government</td>\n",
              "      <td>43.662301</td>\n",
              "      <td>-79.389494</td>\n",
              "    </tr>\n",
              "    <tr>\n",
              "      <th>...</th>\n",
              "      <td>...</td>\n",
              "      <td>...</td>\n",
              "      <td>...</td>\n",
              "      <td>...</td>\n",
              "      <td>...</td>\n",
              "    </tr>\n",
              "    <tr>\n",
              "      <th>98</th>\n",
              "      <td>M8X</td>\n",
              "      <td>Etobicoke</td>\n",
              "      <td>The Kingsway / Montgomery Road / Old Mill North</td>\n",
              "      <td>43.653654</td>\n",
              "      <td>-79.506944</td>\n",
              "    </tr>\n",
              "    <tr>\n",
              "      <th>99</th>\n",
              "      <td>M4Y</td>\n",
              "      <td>Downtown Toronto</td>\n",
              "      <td>Church and Wellesley</td>\n",
              "      <td>43.665860</td>\n",
              "      <td>-79.383160</td>\n",
              "    </tr>\n",
              "    <tr>\n",
              "      <th>100</th>\n",
              "      <td>M7Y</td>\n",
              "      <td>East Toronto</td>\n",
              "      <td>Business reply mail Processing CentrE</td>\n",
              "      <td>43.662744</td>\n",
              "      <td>-79.321558</td>\n",
              "    </tr>\n",
              "    <tr>\n",
              "      <th>101</th>\n",
              "      <td>M8Y</td>\n",
              "      <td>Etobicoke</td>\n",
              "      <td>Old Mill South / King's Mill Park / Sunnylea /...</td>\n",
              "      <td>43.636258</td>\n",
              "      <td>-79.498509</td>\n",
              "    </tr>\n",
              "    <tr>\n",
              "      <th>102</th>\n",
              "      <td>M8Z</td>\n",
              "      <td>Etobicoke</td>\n",
              "      <td>Mimico NW / The Queensway West / South of Bloo...</td>\n",
              "      <td>43.628841</td>\n",
              "      <td>-79.520999</td>\n",
              "    </tr>\n",
              "  </tbody>\n",
              "</table>\n",
              "<p>103 rows × 5 columns</p>\n",
              "</div>"
            ],
            "text/plain": [
              "    Postal code           Borough  ...   Latitude  Longitude\n",
              "0           M3A        North York  ...  43.753259 -79.329656\n",
              "1           M4A        North York  ...  43.725882 -79.315572\n",
              "2           M5A  Downtown Toronto  ...  43.654260 -79.360636\n",
              "3           M6A        North York  ...  43.718518 -79.464763\n",
              "4           M7A  Downtown Toronto  ...  43.662301 -79.389494\n",
              "..          ...               ...  ...        ...        ...\n",
              "98          M8X         Etobicoke  ...  43.653654 -79.506944\n",
              "99          M4Y  Downtown Toronto  ...  43.665860 -79.383160\n",
              "100         M7Y      East Toronto  ...  43.662744 -79.321558\n",
              "101         M8Y         Etobicoke  ...  43.636258 -79.498509\n",
              "102         M8Z         Etobicoke  ...  43.628841 -79.520999\n",
              "\n",
              "[103 rows x 5 columns]"
            ]
          },
          "metadata": {
            "tags": []
          },
          "execution_count": 27
        }
      ]
    },
    {
      "cell_type": "markdown",
      "metadata": {
        "id": "PrMhJRStmJSQ",
        "colab_type": "text"
      },
      "source": [
        "# Task 3"
      ]
    },
    {
      "cell_type": "code",
      "metadata": {
        "id": "VzectbIwvBZm",
        "colab_type": "code",
        "colab": {
          "base_uri": "https://localhost:8080/",
          "height": 206
        },
        "outputId": "29ec87ae-af16-4424-a5ed-1764288ef9ca"
      },
      "source": [
        "# Strip df to only contain boroughs in Toronto\n",
        "df = df[df.Borough.str.contains(\"Toronto\", na=False)]\n",
        "df.head()"
      ],
      "execution_count": 64,
      "outputs": [
        {
          "output_type": "execute_result",
          "data": {
            "text/html": [
              "<div>\n",
              "<style scoped>\n",
              "    .dataframe tbody tr th:only-of-type {\n",
              "        vertical-align: middle;\n",
              "    }\n",
              "\n",
              "    .dataframe tbody tr th {\n",
              "        vertical-align: top;\n",
              "    }\n",
              "\n",
              "    .dataframe thead th {\n",
              "        text-align: right;\n",
              "    }\n",
              "</style>\n",
              "<table border=\"1\" class=\"dataframe\">\n",
              "  <thead>\n",
              "    <tr style=\"text-align: right;\">\n",
              "      <th></th>\n",
              "      <th>Postal code</th>\n",
              "      <th>Borough</th>\n",
              "      <th>Neighborhood</th>\n",
              "      <th>Latitude</th>\n",
              "      <th>Longitude</th>\n",
              "    </tr>\n",
              "  </thead>\n",
              "  <tbody>\n",
              "    <tr>\n",
              "      <th>2</th>\n",
              "      <td>M5A</td>\n",
              "      <td>Downtown Toronto</td>\n",
              "      <td>Regent Park / Harbourfront</td>\n",
              "      <td>43.654260</td>\n",
              "      <td>-79.360636</td>\n",
              "    </tr>\n",
              "    <tr>\n",
              "      <th>4</th>\n",
              "      <td>M7A</td>\n",
              "      <td>Downtown Toronto</td>\n",
              "      <td>Queen's Park / Ontario Provincial Government</td>\n",
              "      <td>43.662301</td>\n",
              "      <td>-79.389494</td>\n",
              "    </tr>\n",
              "    <tr>\n",
              "      <th>9</th>\n",
              "      <td>M5B</td>\n",
              "      <td>Downtown Toronto</td>\n",
              "      <td>Garden District, Ryerson</td>\n",
              "      <td>43.657162</td>\n",
              "      <td>-79.378937</td>\n",
              "    </tr>\n",
              "    <tr>\n",
              "      <th>15</th>\n",
              "      <td>M5C</td>\n",
              "      <td>Downtown Toronto</td>\n",
              "      <td>St. James Town</td>\n",
              "      <td>43.651494</td>\n",
              "      <td>-79.375418</td>\n",
              "    </tr>\n",
              "    <tr>\n",
              "      <th>19</th>\n",
              "      <td>M4E</td>\n",
              "      <td>East Toronto</td>\n",
              "      <td>The Beaches</td>\n",
              "      <td>43.676357</td>\n",
              "      <td>-79.293031</td>\n",
              "    </tr>\n",
              "  </tbody>\n",
              "</table>\n",
              "</div>"
            ],
            "text/plain": [
              "   Postal code           Borough  ...   Latitude  Longitude\n",
              "2          M5A  Downtown Toronto  ...  43.654260 -79.360636\n",
              "4          M7A  Downtown Toronto  ...  43.662301 -79.389494\n",
              "9          M5B  Downtown Toronto  ...  43.657162 -79.378937\n",
              "15         M5C  Downtown Toronto  ...  43.651494 -79.375418\n",
              "19         M4E      East Toronto  ...  43.676357 -79.293031\n",
              "\n",
              "[5 rows x 5 columns]"
            ]
          },
          "metadata": {
            "tags": []
          },
          "execution_count": 64
        }
      ]
    },
    {
      "cell_type": "code",
      "metadata": {
        "id": "rzVhKSjjmLTO",
        "colab_type": "code",
        "colab": {
          "base_uri": "https://localhost:8080/",
          "height": 1000
        },
        "outputId": "e0e60930-9a05-4b98-d9ac-615008a6a806"
      },
      "source": [
        "# Print map with all neighborhoods\n",
        "lat_start = df.at[4, \"Latitude\"]\n",
        "long_start = df.at[4, \"Longitude\"]\n",
        "\n",
        "import folium\n",
        "map = folium.Map(location=[lat_start, long_start], zoom_start=12)\n",
        "\n",
        "for _, row in df.iterrows():\n",
        "  lat = row[\"Latitude\"]\n",
        "  long = row[\"Longitude\"]\n",
        "  popup = row[\"Neighborhood\"]\n",
        "  #print(\"Lat: {}, Long: {}, Neighborhood: {}\".format(lat, long, popup))\n",
        "  folium.Circle(\n",
        "        location=[lat, long],\n",
        "        popup=popup,\n",
        "        radius=300,\n",
        "        color='crimson',\n",
        "        fill=True,\n",
        "        fill_color='crimson'\n",
        "    ).add_to(map)\n",
        "map"
      ],
      "execution_count": 88,
      "outputs": [
        {
          "output_type": "execute_result",
          "data": {
            "text/plain": [
              "<folium.vector_layers.Circle at 0x7f2fa957e0f0>"
            ]
          },
          "metadata": {
            "tags": []
          },
          "execution_count": 88
        },
        {
          "output_type": "execute_result",
          "data": {
            "text/plain": [
              "<folium.vector_layers.Circle at 0x7f2fa933ce48>"
            ]
          },
          "metadata": {
            "tags": []
          },
          "execution_count": 88
        },
        {
          "output_type": "execute_result",
          "data": {
            "text/plain": [
              "<folium.vector_layers.Circle at 0x7f2fa933cb70>"
            ]
          },
          "metadata": {
            "tags": []
          },
          "execution_count": 88
        },
        {
          "output_type": "execute_result",
          "data": {
            "text/plain": [
              "<folium.vector_layers.Circle at 0x7f2fa94e8ef0>"
            ]
          },
          "metadata": {
            "tags": []
          },
          "execution_count": 88
        },
        {
          "output_type": "execute_result",
          "data": {
            "text/plain": [
              "<folium.vector_layers.Circle at 0x7f2fa97b1ef0>"
            ]
          },
          "metadata": {
            "tags": []
          },
          "execution_count": 88
        },
        {
          "output_type": "execute_result",
          "data": {
            "text/plain": [
              "<folium.vector_layers.Circle at 0x7f2fa9316908>"
            ]
          },
          "metadata": {
            "tags": []
          },
          "execution_count": 88
        },
        {
          "output_type": "execute_result",
          "data": {
            "text/plain": [
              "<folium.vector_layers.Circle at 0x7f2fa9316080>"
            ]
          },
          "metadata": {
            "tags": []
          },
          "execution_count": 88
        },
        {
          "output_type": "execute_result",
          "data": {
            "text/plain": [
              "<folium.vector_layers.Circle at 0x7f2fa9438908>"
            ]
          },
          "metadata": {
            "tags": []
          },
          "execution_count": 88
        },
        {
          "output_type": "execute_result",
          "data": {
            "text/plain": [
              "<folium.vector_layers.Circle at 0x7f2fa94382b0>"
            ]
          },
          "metadata": {
            "tags": []
          },
          "execution_count": 88
        },
        {
          "output_type": "execute_result",
          "data": {
            "text/plain": [
              "<folium.vector_layers.Circle at 0x7f2fa93125f8>"
            ]
          },
          "metadata": {
            "tags": []
          },
          "execution_count": 88
        },
        {
          "output_type": "execute_result",
          "data": {
            "text/plain": [
              "<folium.vector_layers.Circle at 0x7f2fa93128d0>"
            ]
          },
          "metadata": {
            "tags": []
          },
          "execution_count": 88
        },
        {
          "output_type": "execute_result",
          "data": {
            "text/plain": [
              "<folium.vector_layers.Circle at 0x7f2fa93414e0>"
            ]
          },
          "metadata": {
            "tags": []
          },
          "execution_count": 88
        },
        {
          "output_type": "execute_result",
          "data": {
            "text/plain": [
              "<folium.vector_layers.Circle at 0x7f2fa9341080>"
            ]
          },
          "metadata": {
            "tags": []
          },
          "execution_count": 88
        },
        {
          "output_type": "execute_result",
          "data": {
            "text/plain": [
              "<folium.vector_layers.Circle at 0x7f2fa9316550>"
            ]
          },
          "metadata": {
            "tags": []
          },
          "execution_count": 88
        },
        {
          "output_type": "execute_result",
          "data": {
            "text/plain": [
              "<folium.vector_layers.Circle at 0x7f2fa9413e48>"
            ]
          },
          "metadata": {
            "tags": []
          },
          "execution_count": 88
        },
        {
          "output_type": "execute_result",
          "data": {
            "text/plain": [
              "<folium.vector_layers.Circle at 0x7f2fa93666d8>"
            ]
          },
          "metadata": {
            "tags": []
          },
          "execution_count": 88
        },
        {
          "output_type": "execute_result",
          "data": {
            "text/plain": [
              "<folium.vector_layers.Circle at 0x7f2fa9366358>"
            ]
          },
          "metadata": {
            "tags": []
          },
          "execution_count": 88
        },
        {
          "output_type": "execute_result",
          "data": {
            "text/plain": [
              "<folium.vector_layers.Circle at 0x7f2fa9366748>"
            ]
          },
          "metadata": {
            "tags": []
          },
          "execution_count": 88
        },
        {
          "output_type": "execute_result",
          "data": {
            "text/plain": [
              "<folium.vector_layers.Circle at 0x7f2fa92f6c50>"
            ]
          },
          "metadata": {
            "tags": []
          },
          "execution_count": 88
        },
        {
          "output_type": "execute_result",
          "data": {
            "text/plain": [
              "<folium.vector_layers.Circle at 0x7f2fa9304160>"
            ]
          },
          "metadata": {
            "tags": []
          },
          "execution_count": 88
        },
        {
          "output_type": "execute_result",
          "data": {
            "text/plain": [
              "<folium.vector_layers.Circle at 0x7f2fa9304f28>"
            ]
          },
          "metadata": {
            "tags": []
          },
          "execution_count": 88
        },
        {
          "output_type": "execute_result",
          "data": {
            "text/plain": [
              "<folium.vector_layers.Circle at 0x7f2fa933cba8>"
            ]
          },
          "metadata": {
            "tags": []
          },
          "execution_count": 88
        },
        {
          "output_type": "execute_result",
          "data": {
            "text/plain": [
              "<folium.vector_layers.Circle at 0x7f2fa9304cc0>"
            ]
          },
          "metadata": {
            "tags": []
          },
          "execution_count": 88
        },
        {
          "output_type": "execute_result",
          "data": {
            "text/plain": [
              "<folium.vector_layers.Circle at 0x7f2fa92f61d0>"
            ]
          },
          "metadata": {
            "tags": []
          },
          "execution_count": 88
        },
        {
          "output_type": "execute_result",
          "data": {
            "text/plain": [
              "<folium.vector_layers.Circle at 0x7f2fa92f6d68>"
            ]
          },
          "metadata": {
            "tags": []
          },
          "execution_count": 88
        },
        {
          "output_type": "execute_result",
          "data": {
            "text/plain": [
              "<folium.vector_layers.Circle at 0x7f2fa9366780>"
            ]
          },
          "metadata": {
            "tags": []
          },
          "execution_count": 88
        },
        {
          "output_type": "execute_result",
          "data": {
            "text/plain": [
              "<folium.vector_layers.Circle at 0x7f2fa93126a0>"
            ]
          },
          "metadata": {
            "tags": []
          },
          "execution_count": 88
        },
        {
          "output_type": "execute_result",
          "data": {
            "text/plain": [
              "<folium.vector_layers.Circle at 0x7f2fa9316278>"
            ]
          },
          "metadata": {
            "tags": []
          },
          "execution_count": 88
        },
        {
          "output_type": "execute_result",
          "data": {
            "text/plain": [
              "<folium.vector_layers.Circle at 0x7f2fa93ceb38>"
            ]
          },
          "metadata": {
            "tags": []
          },
          "execution_count": 88
        },
        {
          "output_type": "execute_result",
          "data": {
            "text/plain": [
              "<folium.vector_layers.Circle at 0x7f2fa93ceeb8>"
            ]
          },
          "metadata": {
            "tags": []
          },
          "execution_count": 88
        },
        {
          "output_type": "execute_result",
          "data": {
            "text/plain": [
              "<folium.vector_layers.Circle at 0x7f2fa93ce240>"
            ]
          },
          "metadata": {
            "tags": []
          },
          "execution_count": 88
        },
        {
          "output_type": "execute_result",
          "data": {
            "text/plain": [
              "<folium.vector_layers.Circle at 0x7f2fa93ce978>"
            ]
          },
          "metadata": {
            "tags": []
          },
          "execution_count": 88
        },
        {
          "output_type": "execute_result",
          "data": {
            "text/plain": [
              "<folium.vector_layers.Circle at 0x7f2fa93ce630>"
            ]
          },
          "metadata": {
            "tags": []
          },
          "execution_count": 88
        },
        {
          "output_type": "execute_result",
          "data": {
            "text/plain": [
              "<folium.vector_layers.Circle at 0x7f2fa93cebe0>"
            ]
          },
          "metadata": {
            "tags": []
          },
          "execution_count": 88
        },
        {
          "output_type": "execute_result",
          "data": {
            "text/plain": [
              "<folium.vector_layers.Circle at 0x7f2fa9366f28>"
            ]
          },
          "metadata": {
            "tags": []
          },
          "execution_count": 88
        },
        {
          "output_type": "execute_result",
          "data": {
            "text/plain": [
              "<folium.vector_layers.Circle at 0x7f2fa93665f8>"
            ]
          },
          "metadata": {
            "tags": []
          },
          "execution_count": 88
        },
        {
          "output_type": "execute_result",
          "data": {
            "text/plain": [
              "<folium.vector_layers.Circle at 0x7f2fa9359a58>"
            ]
          },
          "metadata": {
            "tags": []
          },
          "execution_count": 88
        },
        {
          "output_type": "execute_result",
          "data": {
            "text/plain": [
              "<folium.vector_layers.Circle at 0x7f2fa93ce748>"
            ]
          },
          "metadata": {
            "tags": []
          },
          "execution_count": 88
        },
        {
          "output_type": "execute_result",
          "data": {
            "text/plain": [
              "<folium.vector_layers.Circle at 0x7f2fa93bac18>"
            ]
          },
          "metadata": {
            "tags": []
          },
          "execution_count": 88
        },
        {
          "output_type": "execute_result",
          "data": {
            "text/html": [
              "<div style=\"width:100%;\"><div style=\"position:relative;width:100%;height:0;padding-bottom:60%;\"><iframe src=\"about:blank\" style=\"position:absolute;width:100%;height:100%;left:0;top:0;border:none !important;\" data-html=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 onload=\"this.contentDocument.open();this.contentDocument.write(atob(this.getAttribute('data-html')));this.contentDocument.close();\" allowfullscreen webkitallowfullscreen mozallowfullscreen></iframe></div></div>"
            ],
            "text/plain": [
              "<folium.folium.Map at 0x7f2fa933c8d0>"
            ]
          },
          "metadata": {
            "tags": []
          },
          "execution_count": 88
        }
      ]
    },
    {
      "cell_type": "code",
      "metadata": {
        "id": "HC96WGlKpSku",
        "colab_type": "code",
        "colab": {
          "base_uri": "https://localhost:8080/",
          "height": 72
        },
        "outputId": "12ad5472-7f7c-47fe-b32e-cdffa2e9bb7c"
      },
      "source": [
        "# DBSCAN Clustering\n",
        "from sklearn.cluster import DBSCAN\n",
        "epsilon = 0.015 # radius of cluster\n",
        "minimumSamples = 3 # minimum number of data points do create a cluster\n",
        "X = df[[\"Latitude\", \"Longitude\"]].values\n",
        "db = DBSCAN(eps=epsilon, min_samples=minimumSamples).fit(X)\n",
        "labels = db.labels_\n",
        "unique_labels = set(labels)\n",
        "print(\"labels: \", labels)\n",
        "print(\"unique_labels: \", unique_labels)"
      ],
      "execution_count": 87,
      "outputs": [
        {
          "output_type": "stream",
          "text": [
            "labels:  [-1  0  0  0 -1  0  0 -1  0 -1  0 -1 -1  0 -1 -1  0 -1 -1 -1 -1 -1 -1 -1\n",
            "  0 -1 -1  0 -1  0  0  0 -1  0  0 -1  0  0 -1]\n",
            "unique_labels:  {0, -1}\n"
          ],
          "name": "stdout"
        }
      ]
    },
    {
      "cell_type": "code",
      "metadata": {
        "id": "3XCUnxmWs62I",
        "colab_type": "code",
        "colab": {
          "base_uri": "https://localhost:8080/",
          "height": 265
        },
        "outputId": "c4e63699-6aa3-4708-c42f-e382a4b3e21a"
      },
      "source": [
        "# Plot clusters\n",
        "colors = plt.cm.Spectral(np.linspace(0, 1, len(unique_labels)))\n",
        "\n",
        "# Create mask to determine outliers (False==Outlier)\n",
        "core_samples_mask = np.zeros_like(db.labels_, dtype=bool)\n",
        "core_samples_mask[db.core_sample_indices_] = True\n",
        "\n",
        "for k, col in zip(unique_labels, colors):\n",
        "    if k == -1:\n",
        "        # Black used for noise.\n",
        "        col = 'k'\n",
        "\n",
        "    class_member_mask = (labels == k)\n",
        "\n",
        "    # Plot the datapoints that are clustered\n",
        "    xy = X[class_member_mask & core_samples_mask]\n",
        "    a1 = plt.scatter(xy[:, 0], xy[:, 1],s=50, c=[col], marker=u'o', alpha=0.5)\n",
        "\n",
        "    # Plot the outliers\n",
        "    xy = X[class_member_mask & ~core_samples_mask]\n",
        "    a2 = plt.scatter(xy[:, 0], xy[:, 1],s=50, c=[col], marker=u'o', alpha=0.5)"
      ],
      "execution_count": 86,
      "outputs": [
        {
          "output_type": "display_data",
          "data": {
            "image/png": "[encoded data removed]",
            "text/plain": [
              "<Figure size 432x288 with 1 Axes>"
            ]
          },
          "metadata": {
            "tags": [],
            "needs_background": "light"
          }
        }
      ]
    }
  ]
}