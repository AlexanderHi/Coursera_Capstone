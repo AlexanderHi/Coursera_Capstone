{
  "nbformat": 4,
  "nbformat_minor": 0,
  "metadata": {
    "colab": {
      "name": "Clustering_neighboorhoods.ipynb",
      "provenance": [],
      "collapsed_sections": [],
      "authorship_tag": "ABX9TyO468Q8JUEOjTyITaP9bGhX",
      "include_colab_link": true
    },
    "kernelspec": {
      "name": "python3",
      "display_name": "Python 3"
    }
  },
  "cells": [
    {
      "cell_type": "markdown",
      "metadata": {
        "id": "view-in-github",
        "colab_type": "text"
      },
      "source": [
        "<a href=\"https://colab.research.google.com/github/AlexanderHi/Coursera_Capstone/blob/master/Clustering_neighborhoods.ipynb\" target=\"_parent\"><img src=\"https://colab.research.google.com/assets/colab-badge.svg\" alt=\"Open In Colab\"/></a>"
      ]
    },
    {
      "cell_type": "code",
      "metadata": {
        "id": "Xhc-iR_bt-JE",
        "colab_type": "code",
        "colab": {}
      },
      "source": [
        "# Enable multiple outputs per cell\n",
        "from IPython.core.interactiveshell import InteractiveShell\n",
        "InteractiveShell.ast_node_interactivity = \"all\""
      ],
      "execution_count": 0,
      "outputs": []
    },
    {
      "cell_type": "markdown",
      "metadata": {
        "id": "WMk-CZ-lk_FG",
        "colab_type": "text"
      },
      "source": [
        "# Task 1"
      ]
    },
    {
      "cell_type": "code",
      "metadata": {
        "id": "TpuWHGjIZSYf",
        "colab_type": "code",
        "outputId": "12672325-f5df-4c11-9a87-f512420fa3db",
        "colab": {
          "base_uri": "https://localhost:8080/",
          "height": 424
        }
      },
      "source": [
        "# Scrape table from url\n",
        "import pandas as pd\n",
        "import numpy as np\n",
        "\n",
        "df = pd.read_html('https://en.wikipedia.org/wiki/List_of_postal_codes_of_Canada:_M')[0]\n",
        "df"
      ],
      "execution_count": 1,
      "outputs": [
        {
          "output_type": "execute_result",
          "data": {
            "text/html": [
              "<div>\n",
              "<style scoped>\n",
              "    .dataframe tbody tr th:only-of-type {\n",
              "        vertical-align: middle;\n",
              "    }\n",
              "\n",
              "    .dataframe tbody tr th {\n",
              "        vertical-align: top;\n",
              "    }\n",
              "\n",
              "    .dataframe thead th {\n",
              "        text-align: right;\n",
              "    }\n",
              "</style>\n",
              "<table border=\"1\" class=\"dataframe\">\n",
              "  <thead>\n",
              "    <tr style=\"text-align: right;\">\n",
              "      <th></th>\n",
              "      <th>Postal code</th>\n",
              "      <th>Borough</th>\n",
              "      <th>Neighborhood</th>\n",
              "    </tr>\n",
              "  </thead>\n",
              "  <tbody>\n",
              "    <tr>\n",
              "      <th>0</th>\n",
              "      <td>M1A</td>\n",
              "      <td>Not assigned</td>\n",
              "      <td>NaN</td>\n",
              "    </tr>\n",
              "    <tr>\n",
              "      <th>1</th>\n",
              "      <td>M2A</td>\n",
              "      <td>Not assigned</td>\n",
              "      <td>NaN</td>\n",
              "    </tr>\n",
              "    <tr>\n",
              "      <th>2</th>\n",
              "      <td>M3A</td>\n",
              "      <td>North York</td>\n",
              "      <td>Parkwoods</td>\n",
              "    </tr>\n",
              "    <tr>\n",
              "      <th>3</th>\n",
              "      <td>M4A</td>\n",
              "      <td>North York</td>\n",
              "      <td>Victoria Village</td>\n",
              "    </tr>\n",
              "    <tr>\n",
              "      <th>4</th>\n",
              "      <td>M5A</td>\n",
              "      <td>Downtown Toronto</td>\n",
              "      <td>Regent Park / Harbourfront</td>\n",
              "    </tr>\n",
              "    <tr>\n",
              "      <th>...</th>\n",
              "      <td>...</td>\n",
              "      <td>...</td>\n",
              "      <td>...</td>\n",
              "    </tr>\n",
              "    <tr>\n",
              "      <th>175</th>\n",
              "      <td>M5Z</td>\n",
              "      <td>Not assigned</td>\n",
              "      <td>NaN</td>\n",
              "    </tr>\n",
              "    <tr>\n",
              "      <th>176</th>\n",
              "      <td>M6Z</td>\n",
              "      <td>Not assigned</td>\n",
              "      <td>NaN</td>\n",
              "    </tr>\n",
              "    <tr>\n",
              "      <th>177</th>\n",
              "      <td>M7Z</td>\n",
              "      <td>Not assigned</td>\n",
              "      <td>NaN</td>\n",
              "    </tr>\n",
              "    <tr>\n",
              "      <th>178</th>\n",
              "      <td>M8Z</td>\n",
              "      <td>Etobicoke</td>\n",
              "      <td>Mimico NW / The Queensway West / South of Bloo...</td>\n",
              "    </tr>\n",
              "    <tr>\n",
              "      <th>179</th>\n",
              "      <td>M9Z</td>\n",
              "      <td>Not assigned</td>\n",
              "      <td>NaN</td>\n",
              "    </tr>\n",
              "  </tbody>\n",
              "</table>\n",
              "<p>180 rows × 3 columns</p>\n",
              "</div>"
            ],
            "text/plain": [
              "    Postal code  ...                                       Neighborhood\n",
              "0           M1A  ...                                                NaN\n",
              "1           M2A  ...                                                NaN\n",
              "2           M3A  ...                                          Parkwoods\n",
              "3           M4A  ...                                   Victoria Village\n",
              "4           M5A  ...                         Regent Park / Harbourfront\n",
              "..          ...  ...                                                ...\n",
              "175         M5Z  ...                                                NaN\n",
              "176         M6Z  ...                                                NaN\n",
              "177         M7Z  ...                                                NaN\n",
              "178         M8Z  ...  Mimico NW / The Queensway West / South of Bloo...\n",
              "179         M9Z  ...                                                NaN\n",
              "\n",
              "[180 rows x 3 columns]"
            ]
          },
          "metadata": {
            "tags": []
          },
          "execution_count": 1
        }
      ]
    },
    {
      "cell_type": "code",
      "metadata": {
        "id": "SL3IDN9Yilyg",
        "colab_type": "code",
        "colab": {
          "base_uri": "https://localhost:8080/",
          "height": 424
        },
        "outputId": "784f5cf2-4248-4071-c89c-ba057243dbba"
      },
      "source": [
        "# Remove rows with boroughs that are not assigned\n",
        "df.drop(df.index[df['Borough'] == 'Not assigned'], inplace=True)\n",
        "df"
      ],
      "execution_count": 2,
      "outputs": [
        {
          "output_type": "execute_result",
          "data": {
            "text/html": [
              "<div>\n",
              "<style scoped>\n",
              "    .dataframe tbody tr th:only-of-type {\n",
              "        vertical-align: middle;\n",
              "    }\n",
              "\n",
              "    .dataframe tbody tr th {\n",
              "        vertical-align: top;\n",
              "    }\n",
              "\n",
              "    .dataframe thead th {\n",
              "        text-align: right;\n",
              "    }\n",
              "</style>\n",
              "<table border=\"1\" class=\"dataframe\">\n",
              "  <thead>\n",
              "    <tr style=\"text-align: right;\">\n",
              "      <th></th>\n",
              "      <th>Postal code</th>\n",
              "      <th>Borough</th>\n",
              "      <th>Neighborhood</th>\n",
              "    </tr>\n",
              "  </thead>\n",
              "  <tbody>\n",
              "    <tr>\n",
              "      <th>2</th>\n",
              "      <td>M3A</td>\n",
              "      <td>North York</td>\n",
              "      <td>Parkwoods</td>\n",
              "    </tr>\n",
              "    <tr>\n",
              "      <th>3</th>\n",
              "      <td>M4A</td>\n",
              "      <td>North York</td>\n",
              "      <td>Victoria Village</td>\n",
              "    </tr>\n",
              "    <tr>\n",
              "      <th>4</th>\n",
              "      <td>M5A</td>\n",
              "      <td>Downtown Toronto</td>\n",
              "      <td>Regent Park / Harbourfront</td>\n",
              "    </tr>\n",
              "    <tr>\n",
              "      <th>5</th>\n",
              "      <td>M6A</td>\n",
              "      <td>North York</td>\n",
              "      <td>Lawrence Manor / Lawrence Heights</td>\n",
              "    </tr>\n",
              "    <tr>\n",
              "      <th>6</th>\n",
              "      <td>M7A</td>\n",
              "      <td>Downtown Toronto</td>\n",
              "      <td>Queen's Park / Ontario Provincial Government</td>\n",
              "    </tr>\n",
              "    <tr>\n",
              "      <th>...</th>\n",
              "      <td>...</td>\n",
              "      <td>...</td>\n",
              "      <td>...</td>\n",
              "    </tr>\n",
              "    <tr>\n",
              "      <th>160</th>\n",
              "      <td>M8X</td>\n",
              "      <td>Etobicoke</td>\n",
              "      <td>The Kingsway / Montgomery Road / Old Mill North</td>\n",
              "    </tr>\n",
              "    <tr>\n",
              "      <th>165</th>\n",
              "      <td>M4Y</td>\n",
              "      <td>Downtown Toronto</td>\n",
              "      <td>Church and Wellesley</td>\n",
              "    </tr>\n",
              "    <tr>\n",
              "      <th>168</th>\n",
              "      <td>M7Y</td>\n",
              "      <td>East Toronto</td>\n",
              "      <td>Business reply mail Processing CentrE</td>\n",
              "    </tr>\n",
              "    <tr>\n",
              "      <th>169</th>\n",
              "      <td>M8Y</td>\n",
              "      <td>Etobicoke</td>\n",
              "      <td>Old Mill South / King's Mill Park / Sunnylea /...</td>\n",
              "    </tr>\n",
              "    <tr>\n",
              "      <th>178</th>\n",
              "      <td>M8Z</td>\n",
              "      <td>Etobicoke</td>\n",
              "      <td>Mimico NW / The Queensway West / South of Bloo...</td>\n",
              "    </tr>\n",
              "  </tbody>\n",
              "</table>\n",
              "<p>103 rows × 3 columns</p>\n",
              "</div>"
            ],
            "text/plain": [
              "    Postal code  ...                                       Neighborhood\n",
              "2           M3A  ...                                          Parkwoods\n",
              "3           M4A  ...                                   Victoria Village\n",
              "4           M5A  ...                         Regent Park / Harbourfront\n",
              "5           M6A  ...                  Lawrence Manor / Lawrence Heights\n",
              "6           M7A  ...       Queen's Park / Ontario Provincial Government\n",
              "..          ...  ...                                                ...\n",
              "160         M8X  ...    The Kingsway / Montgomery Road / Old Mill North\n",
              "165         M4Y  ...                               Church and Wellesley\n",
              "168         M7Y  ...              Business reply mail Processing CentrE\n",
              "169         M8Y  ...  Old Mill South / King's Mill Park / Sunnylea /...\n",
              "178         M8Z  ...  Mimico NW / The Queensway West / South of Bloo...\n",
              "\n",
              "[103 rows x 3 columns]"
            ]
          },
          "metadata": {
            "tags": []
          },
          "execution_count": 2
        }
      ]
    },
    {
      "cell_type": "code",
      "metadata": {
        "id": "8aaw56isqcm5",
        "colab_type": "code",
        "colab": {
          "base_uri": "https://localhost:8080/",
          "height": 424
        },
        "outputId": "234f0eb4-e83c-4a87-d0c8-857b8cc6c8d5"
      },
      "source": [
        "# Check for and deal with NaNs in the Neighboorhood column\n",
        "for _, row in df.iterrows():\n",
        "  if row[\"Neighborhood\"] == \"NaN\":\n",
        "    row[\"Neighborhood\"] = row[\"Borough\"]\n",
        "df"
      ],
      "execution_count": 3,
      "outputs": [
        {
          "output_type": "execute_result",
          "data": {
            "text/html": [
              "<div>\n",
              "<style scoped>\n",
              "    .dataframe tbody tr th:only-of-type {\n",
              "        vertical-align: middle;\n",
              "    }\n",
              "\n",
              "    .dataframe tbody tr th {\n",
              "        vertical-align: top;\n",
              "    }\n",
              "\n",
              "    .dataframe thead th {\n",
              "        text-align: right;\n",
              "    }\n",
              "</style>\n",
              "<table border=\"1\" class=\"dataframe\">\n",
              "  <thead>\n",
              "    <tr style=\"text-align: right;\">\n",
              "      <th></th>\n",
              "      <th>Postal code</th>\n",
              "      <th>Borough</th>\n",
              "      <th>Neighborhood</th>\n",
              "    </tr>\n",
              "  </thead>\n",
              "  <tbody>\n",
              "    <tr>\n",
              "      <th>2</th>\n",
              "      <td>M3A</td>\n",
              "      <td>North York</td>\n",
              "      <td>Parkwoods</td>\n",
              "    </tr>\n",
              "    <tr>\n",
              "      <th>3</th>\n",
              "      <td>M4A</td>\n",
              "      <td>North York</td>\n",
              "      <td>Victoria Village</td>\n",
              "    </tr>\n",
              "    <tr>\n",
              "      <th>4</th>\n",
              "      <td>M5A</td>\n",
              "      <td>Downtown Toronto</td>\n",
              "      <td>Regent Park / Harbourfront</td>\n",
              "    </tr>\n",
              "    <tr>\n",
              "      <th>5</th>\n",
              "      <td>M6A</td>\n",
              "      <td>North York</td>\n",
              "      <td>Lawrence Manor / Lawrence Heights</td>\n",
              "    </tr>\n",
              "    <tr>\n",
              "      <th>6</th>\n",
              "      <td>M7A</td>\n",
              "      <td>Downtown Toronto</td>\n",
              "      <td>Queen's Park / Ontario Provincial Government</td>\n",
              "    </tr>\n",
              "    <tr>\n",
              "      <th>...</th>\n",
              "      <td>...</td>\n",
              "      <td>...</td>\n",
              "      <td>...</td>\n",
              "    </tr>\n",
              "    <tr>\n",
              "      <th>160</th>\n",
              "      <td>M8X</td>\n",
              "      <td>Etobicoke</td>\n",
              "      <td>The Kingsway / Montgomery Road / Old Mill North</td>\n",
              "    </tr>\n",
              "    <tr>\n",
              "      <th>165</th>\n",
              "      <td>M4Y</td>\n",
              "      <td>Downtown Toronto</td>\n",
              "      <td>Church and Wellesley</td>\n",
              "    </tr>\n",
              "    <tr>\n",
              "      <th>168</th>\n",
              "      <td>M7Y</td>\n",
              "      <td>East Toronto</td>\n",
              "      <td>Business reply mail Processing CentrE</td>\n",
              "    </tr>\n",
              "    <tr>\n",
              "      <th>169</th>\n",
              "      <td>M8Y</td>\n",
              "      <td>Etobicoke</td>\n",
              "      <td>Old Mill South / King's Mill Park / Sunnylea /...</td>\n",
              "    </tr>\n",
              "    <tr>\n",
              "      <th>178</th>\n",
              "      <td>M8Z</td>\n",
              "      <td>Etobicoke</td>\n",
              "      <td>Mimico NW / The Queensway West / South of Bloo...</td>\n",
              "    </tr>\n",
              "  </tbody>\n",
              "</table>\n",
              "<p>103 rows × 3 columns</p>\n",
              "</div>"
            ],
            "text/plain": [
              "    Postal code  ...                                       Neighborhood\n",
              "2           M3A  ...                                          Parkwoods\n",
              "3           M4A  ...                                   Victoria Village\n",
              "4           M5A  ...                         Regent Park / Harbourfront\n",
              "5           M6A  ...                  Lawrence Manor / Lawrence Heights\n",
              "6           M7A  ...       Queen's Park / Ontario Provincial Government\n",
              "..          ...  ...                                                ...\n",
              "160         M8X  ...    The Kingsway / Montgomery Road / Old Mill North\n",
              "165         M4Y  ...                               Church and Wellesley\n",
              "168         M7Y  ...              Business reply mail Processing CentrE\n",
              "169         M8Y  ...  Old Mill South / King's Mill Park / Sunnylea /...\n",
              "178         M8Z  ...  Mimico NW / The Queensway West / South of Bloo...\n",
              "\n",
              "[103 rows x 3 columns]"
            ]
          },
          "metadata": {
            "tags": []
          },
          "execution_count": 3
        }
      ]
    },
    {
      "cell_type": "code",
      "metadata": {
        "id": "ipYvOWPQoDm_",
        "colab_type": "code",
        "outputId": "605a27b2-c651-45a1-d5d7-6948e5263fb0",
        "colab": {
          "base_uri": "https://localhost:8080/",
          "height": 35
        }
      },
      "source": [
        "df.shape"
      ],
      "execution_count": 4,
      "outputs": [
        {
          "output_type": "execute_result",
          "data": {
            "text/plain": [
              "(103, 3)"
            ]
          },
          "metadata": {
            "tags": []
          },
          "execution_count": 4
        }
      ]
    },
    {
      "cell_type": "markdown",
      "metadata": {
        "id": "vukax6EFlG9y",
        "colab_type": "text"
      },
      "source": [
        "# Task 2\n"
      ]
    },
    {
      "cell_type": "code",
      "metadata": {
        "id": "xjytPGZFk3Tz",
        "colab_type": "code",
        "colab": {}
      },
      "source": [
        "# Read geo coords\n",
        "geo_data = pd.read_csv(\"Geospatial_Coordinates.csv\")\n",
        "geo_data.rename(columns={\"Postal Code\": \"Postal code\"}, inplace=True)"
      ],
      "execution_count": 0,
      "outputs": []
    },
    {
      "cell_type": "code",
      "metadata": {
        "id": "we7delTMln6u",
        "colab_type": "code",
        "colab": {
          "base_uri": "https://localhost:8080/",
          "height": 424
        },
        "outputId": "10cf65cb-73da-46ab-8f47-9a59f0251461"
      },
      "source": [
        "# Merge dfs\n",
        "df = pd.merge(df, geo_data, on=\"Postal code\")\n",
        "df.drop(columns=[\"Latitude_x\", \"Latitude_y\", \"Longitude_x\", \"Longitude_y\"], inplace=True)\n",
        "df"
      ],
      "execution_count": 27,
      "outputs": [
        {
          "output_type": "execute_result",
          "data": {
            "text/html": [
              "<div>\n",
              "<style scoped>\n",
              "    .dataframe tbody tr th:only-of-type {\n",
              "        vertical-align: middle;\n",
              "    }\n",
              "\n",
              "    .dataframe tbody tr th {\n",
              "        vertical-align: top;\n",
              "    }\n",
              "\n",
              "    .dataframe thead th {\n",
              "        text-align: right;\n",
              "    }\n",
              "</style>\n",
              "<table border=\"1\" class=\"dataframe\">\n",
              "  <thead>\n",
              "    <tr style=\"text-align: right;\">\n",
              "      <th></th>\n",
              "      <th>Postal code</th>\n",
              "      <th>Borough</th>\n",
              "      <th>Neighborhood</th>\n",
              "      <th>Latitude</th>\n",
              "      <th>Longitude</th>\n",
              "    </tr>\n",
              "  </thead>\n",
              "  <tbody>\n",
              "    <tr>\n",
              "      <th>0</th>\n",
              "      <td>M3A</td>\n",
              "      <td>North York</td>\n",
              "      <td>Parkwoods</td>\n",
              "      <td>43.753259</td>\n",
              "      <td>-79.329656</td>\n",
              "    </tr>\n",
              "    <tr>\n",
              "      <th>1</th>\n",
              "      <td>M4A</td>\n",
              "      <td>North York</td>\n",
              "      <td>Victoria Village</td>\n",
              "      <td>43.725882</td>\n",
              "      <td>-79.315572</td>\n",
              "    </tr>\n",
              "    <tr>\n",
              "      <th>2</th>\n",
              "      <td>M5A</td>\n",
              "      <td>Downtown Toronto</td>\n",
              "      <td>Regent Park / Harbourfront</td>\n",
              "      <td>43.654260</td>\n",
              "      <td>-79.360636</td>\n",
              "    </tr>\n",
              "    <tr>\n",
              "      <th>3</th>\n",
              "      <td>M6A</td>\n",
              "      <td>North York</td>\n",
              "      <td>Lawrence Manor / Lawrence Heights</td>\n",
              "      <td>43.718518</td>\n",
              "      <td>-79.464763</td>\n",
              "    </tr>\n",
              "    <tr>\n",
              "      <th>4</th>\n",
              "      <td>M7A</td>\n",
              "      <td>Downtown Toronto</td>\n",
              "      <td>Queen's Park / Ontario Provincial Government</td>\n",
              "      <td>43.662301</td>\n",
              "      <td>-79.389494</td>\n",
              "    </tr>\n",
              "    <tr>\n",
              "      <th>...</th>\n",
              "      <td>...</td>\n",
              "      <td>...</td>\n",
              "      <td>...</td>\n",
              "      <td>...</td>\n",
              "      <td>...</td>\n",
              "    </tr>\n",
              "    <tr>\n",
              "      <th>98</th>\n",
              "      <td>M8X</td>\n",
              "      <td>Etobicoke</td>\n",
              "      <td>The Kingsway / Montgomery Road / Old Mill North</td>\n",
              "      <td>43.653654</td>\n",
              "      <td>-79.506944</td>\n",
              "    </tr>\n",
              "    <tr>\n",
              "      <th>99</th>\n",
              "      <td>M4Y</td>\n",
              "      <td>Downtown Toronto</td>\n",
              "      <td>Church and Wellesley</td>\n",
              "      <td>43.665860</td>\n",
              "      <td>-79.383160</td>\n",
              "    </tr>\n",
              "    <tr>\n",
              "      <th>100</th>\n",
              "      <td>M7Y</td>\n",
              "      <td>East Toronto</td>\n",
              "      <td>Business reply mail Processing CentrE</td>\n",
              "      <td>43.662744</td>\n",
              "      <td>-79.321558</td>\n",
              "    </tr>\n",
              "    <tr>\n",
              "      <th>101</th>\n",
              "      <td>M8Y</td>\n",
              "      <td>Etobicoke</td>\n",
              "      <td>Old Mill South / King's Mill Park / Sunnylea /...</td>\n",
              "      <td>43.636258</td>\n",
              "      <td>-79.498509</td>\n",
              "    </tr>\n",
              "    <tr>\n",
              "      <th>102</th>\n",
              "      <td>M8Z</td>\n",
              "      <td>Etobicoke</td>\n",
              "      <td>Mimico NW / The Queensway West / South of Bloo...</td>\n",
              "      <td>43.628841</td>\n",
              "      <td>-79.520999</td>\n",
              "    </tr>\n",
              "  </tbody>\n",
              "</table>\n",
              "<p>103 rows × 5 columns</p>\n",
              "</div>"
            ],
            "text/plain": [
              "    Postal code           Borough  ...   Latitude  Longitude\n",
              "0           M3A        North York  ...  43.753259 -79.329656\n",
              "1           M4A        North York  ...  43.725882 -79.315572\n",
              "2           M5A  Downtown Toronto  ...  43.654260 -79.360636\n",
              "3           M6A        North York  ...  43.718518 -79.464763\n",
              "4           M7A  Downtown Toronto  ...  43.662301 -79.389494\n",
              "..          ...               ...  ...        ...        ...\n",
              "98          M8X         Etobicoke  ...  43.653654 -79.506944\n",
              "99          M4Y  Downtown Toronto  ...  43.665860 -79.383160\n",
              "100         M7Y      East Toronto  ...  43.662744 -79.321558\n",
              "101         M8Y         Etobicoke  ...  43.636258 -79.498509\n",
              "102         M8Z         Etobicoke  ...  43.628841 -79.520999\n",
              "\n",
              "[103 rows x 5 columns]"
            ]
          },
          "metadata": {
            "tags": []
          },
          "execution_count": 27
        }
      ]
    },
    {
      "cell_type": "markdown",
      "metadata": {
        "id": "PrMhJRStmJSQ",
        "colab_type": "text"
      },
      "source": [
        "# Task 3"
      ]
    },
    {
      "cell_type": "code",
      "metadata": {
        "id": "VzectbIwvBZm",
        "colab_type": "code",
        "colab": {
          "base_uri": "https://localhost:8080/",
          "height": 206
        },
        "outputId": "29ec87ae-af16-4424-a5ed-1764288ef9ca"
      },
      "source": [
        "# Strip df to only contain boroughs in Toronto\n",
        "df = df[df.Borough.str.contains(\"Toronto\", na=False)]\n",
        "df.head()"
      ],
      "execution_count": 64,
      "outputs": [
        {
          "output_type": "execute_result",
          "data": {
            "text/html": [
              "<div>\n",
              "<style scoped>\n",
              "    .dataframe tbody tr th:only-of-type {\n",
              "        vertical-align: middle;\n",
              "    }\n",
              "\n",
              "    .dataframe tbody tr th {\n",
              "        vertical-align: top;\n",
              "    }\n",
              "\n",
              "    .dataframe thead th {\n",
              "        text-align: right;\n",
              "    }\n",
              "</style>\n",
              "<table border=\"1\" class=\"dataframe\">\n",
              "  <thead>\n",
              "    <tr style=\"text-align: right;\">\n",
              "      <th></th>\n",
              "      <th>Postal code</th>\n",
              "      <th>Borough</th>\n",
              "      <th>Neighborhood</th>\n",
              "      <th>Latitude</th>\n",
              "      <th>Longitude</th>\n",
              "    </tr>\n",
              "  </thead>\n",
              "  <tbody>\n",
              "    <tr>\n",
              "      <th>2</th>\n",
              "      <td>M5A</td>\n",
              "      <td>Downtown Toronto</td>\n",
              "      <td>Regent Park / Harbourfront</td>\n",
              "      <td>43.654260</td>\n",
              "      <td>-79.360636</td>\n",
              "    </tr>\n",
              "    <tr>\n",
              "      <th>4</th>\n",
              "      <td>M7A</td>\n",
              "      <td>Downtown Toronto</td>\n",
              "      <td>Queen's Park / Ontario Provincial Government</td>\n",
              "      <td>43.662301</td>\n",
              "      <td>-79.389494</td>\n",
              "    </tr>\n",
              "    <tr>\n",
              "      <th>9</th>\n",
              "      <td>M5B</td>\n",
              "      <td>Downtown Toronto</td>\n",
              "      <td>Garden District, Ryerson</td>\n",
              "      <td>43.657162</td>\n",
              "      <td>-79.378937</td>\n",
              "    </tr>\n",
              "    <tr>\n",
              "      <th>15</th>\n",
              "      <td>M5C</td>\n",
              "      <td>Downtown Toronto</td>\n",
              "      <td>St. James Town</td>\n",
              "      <td>43.651494</td>\n",
              "      <td>-79.375418</td>\n",
              "    </tr>\n",
              "    <tr>\n",
              "      <th>19</th>\n",
              "      <td>M4E</td>\n",
              "      <td>East Toronto</td>\n",
              "      <td>The Beaches</td>\n",
              "      <td>43.676357</td>\n",
              "      <td>-79.293031</td>\n",
              "    </tr>\n",
              "  </tbody>\n",
              "</table>\n",
              "</div>"
            ],
            "text/plain": [
              "   Postal code           Borough  ...   Latitude  Longitude\n",
              "2          M5A  Downtown Toronto  ...  43.654260 -79.360636\n",
              "4          M7A  Downtown Toronto  ...  43.662301 -79.389494\n",
              "9          M5B  Downtown Toronto  ...  43.657162 -79.378937\n",
              "15         M5C  Downtown Toronto  ...  43.651494 -79.375418\n",
              "19         M4E      East Toronto  ...  43.676357 -79.293031\n",
              "\n",
              "[5 rows x 5 columns]"
            ]
          },
          "metadata": {
            "tags": []
          },
          "execution_count": 64
        }
      ]
    },
    {
      "cell_type": "code",
      "metadata": {
        "id": "rzVhKSjjmLTO",
        "colab_type": "code",
        "colab": {
          "base_uri": "https://localhost:8080/",
          "height": 1000
        },
        "outputId": "48b18b91-57e4-443d-fc87-922de260b44d"
      },
      "source": [
        "# Print map with all neighborhoods\n",
        "lat_start = df.at[4, \"Latitude\"]\n",
        "long_start = df.at[4, \"Longitude\"]\n",
        "\n",
        "import folium\n",
        "map = folium.Map(location=[lat_start, long_start], zoom_start=12)\n",
        "\n",
        "for _, row in df.iterrows():\n",
        "  lat = row[\"Latitude\"]\n",
        "  long = row[\"Longitude\"]\n",
        "  popup = row[\"Neighborhood\"]\n",
        "  #print(\"Lat: {}, Long: {}, Neighborhood: {}\".format(lat, long, popup))\n",
        "  c = folium.Circle(\n",
        "        location=[lat, long],\n",
        "        popup=popup,\n",
        "        radius=300,\n",
        "        color='crimson',\n",
        "        fill=True,\n",
        "        fill_color='crimson'\n",
        "    ).add_to(map)\n",
        "map"
      ],
      "execution_count": 89,
      "outputs": [
        {
          "output_type": "execute_result",
          "data": {
            "text/html": [
              "<div style=\"width:100%;\"><div style=\"position:relative;width:100%;height:0;padding-bottom:60%;\"><iframe src=\"about:blank\" style=\"position:absolute;width:100%;height:100%;left:0;top:0;border:none !important;\" data-html=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 onload=\"this.contentDocument.open();this.contentDocument.write(atob(this.getAttribute('data-html')));this.contentDocument.close();\" allowfullscreen webkitallowfullscreen mozallowfullscreen></iframe></div></div>"
            ],
            "text/plain": [
              "<folium.folium.Map at 0x7f2fa93c1978>"
            ]
          },
          "metadata": {
            "tags": []
          },
          "execution_count": 89
        }
      ]
    },
    {
      "cell_type": "code",
      "metadata": {
        "id": "HC96WGlKpSku",
        "colab_type": "code",
        "colab": {
          "base_uri": "https://localhost:8080/",
          "height": 72
        },
        "outputId": "12ad5472-7f7c-47fe-b32e-cdffa2e9bb7c"
      },
      "source": [
        "# DBSCAN Clustering\n",
        "from sklearn.cluster import DBSCAN\n",
        "epsilon = 0.015 # radius of cluster\n",
        "minimumSamples = 3 # minimum number of data points do create a cluster\n",
        "X = df[[\"Latitude\", \"Longitude\"]].values\n",
        "db = DBSCAN(eps=epsilon, min_samples=minimumSamples).fit(X)\n",
        "labels = db.labels_\n",
        "unique_labels = set(labels)\n",
        "print(\"labels: \", labels)\n",
        "print(\"unique_labels: \", unique_labels)"
      ],
      "execution_count": 87,
      "outputs": [
        {
          "output_type": "stream",
          "text": [
            "labels:  [-1  0  0  0 -1  0  0 -1  0 -1  0 -1 -1  0 -1 -1  0 -1 -1 -1 -1 -1 -1 -1\n",
            "  0 -1 -1  0 -1  0  0  0 -1  0  0 -1  0  0 -1]\n",
            "unique_labels:  {0, -1}\n"
          ],
          "name": "stdout"
        }
      ]
    },
    {
      "cell_type": "code",
      "metadata": {
        "id": "3XCUnxmWs62I",
        "colab_type": "code",
        "colab": {
          "base_uri": "https://localhost:8080/",
          "height": 265
        },
        "outputId": "c4e63699-6aa3-4708-c42f-e382a4b3e21a"
      },
      "source": [
        "# Plot clusters\n",
        "colors = plt.cm.Spectral(np.linspace(0, 1, len(unique_labels)))\n",
        "\n",
        "# Create mask to determine outliers (False==Outlier)\n",
        "core_samples_mask = np.zeros_like(db.labels_, dtype=bool)\n",
        "core_samples_mask[db.core_sample_indices_] = True\n",
        "\n",
        "for k, col in zip(unique_labels, colors):\n",
        "    if k == -1:\n",
        "        # Black used for noise.\n",
        "        col = 'k'\n",
        "\n",
        "    class_member_mask = (labels == k)\n",
        "\n",
        "    # Plot the datapoints that are clustered\n",
        "    xy = X[class_member_mask & core_samples_mask]\n",
        "    a1 = plt.scatter(xy[:, 0], xy[:, 1],s=50, c=[col], marker=u'o', alpha=0.5)\n",
        "\n",
        "    # Plot the outliers\n",
        "    xy = X[class_member_mask & ~core_samples_mask]\n",
        "    a2 = plt.scatter(xy[:, 0], xy[:, 1],s=50, c=[col], marker=u'o', alpha=0.5)"
      ],
      "execution_count": 86,
      "outputs": [
        {
          "output_type": "display_data",
          "data": {
            "image/png": "[encoded data removed]",
            "text/plain": [
              "<Figure size 432x288 with 1 Axes>"
            ]
          },
          "metadata": {
            "tags": [],
            "needs_background": "light"
          }
        }
      ]
    }
  ]
}